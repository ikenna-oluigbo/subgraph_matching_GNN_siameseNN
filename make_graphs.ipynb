{
 "cells": [
  {
   "cell_type": "code",
   "execution_count": null,
   "id": "c41ef463",
   "metadata": {
    "editable": true,
    "slideshow": {
     "slide_type": ""
    },
    "tags": []
   },
   "outputs": [],
   "source": [
    "import networkx as nx       #pip install graph-tools\n",
    "import pandas as pd\n",
    "import numpy as np\n",
    "import math"
   ]
  },
  {
   "cell_type": "code",
   "execution_count": null,
   "id": "b59f69a9",
   "metadata": {},
   "outputs": [],
   "source": [
    "#extract edges\n",
    "def make_edges():\n",
    "    data_edges = pd.read_csv('datasets/cora/cora.edges', sep=',',\n",
    "                             index_col=False, header=None, names=['from','to','weight'])    #weight optional\n",
    "    graph_edges = [(data_edges['from'][i],data_edges['to'][i]) for i in range(len(data_edges['from']))]\n",
    "    weights = [w for w in data_edges['weight']]\n",
    "   \n",
    "    for w in weights:\n",
    "        if math.isnan(w) == True:\n",
    "            weights = [1 for i in weights if math.isnan(i) == True]\n",
    "    else: pass\n",
    "    \n",
    "    return graph_edges, weights"
   ]
  },
  {
   "cell_type": "code",
   "execution_count": null,
   "id": "22e7ed83",
   "metadata": {},
   "outputs": [],
   "source": [
    "#For node/label columns\n",
    "def make_labels():\n",
    "    #For only label\n",
    "    # data_nodelabels = pd.read_csv('datasets/citeseer/citeseer.node_labels', sep=',',    \n",
    "    #                               index_col=False, header=None, names=['label'])\n",
    "    # label_dict = dict()\n",
    "    # for i in range(len(data_nodelabels['label'])):\n",
    "    #     label_dict[i+1] = data_nodelabels['label'][i]\n",
    "    \n",
    "    #For Node and label\n",
    "    data_nodelabels = pd.read_csv('datasets/cora/cora.node_labels', sep=',',\n",
    "                                  index_col=False, header=None, names=['node','label']) \n",
    "    label_dict = dict()\n",
    "    for i in range(len(data_nodelabels['node'])):\n",
    "        label_dict[data_nodelabels['node'][i]] = data_nodelabels['label'][i]\n",
    "    \n",
    "    graph_nodes = list(label_dict.keys())\n",
    "    return label_dict, graph_nodes"
   ]
  },
  {
   "cell_type": "code",
   "execution_count": null,
   "id": "149961b9",
   "metadata": {},
   "outputs": [],
   "source": [
    "#Graph with NodeAttribute\n",
    "def node_attribute():\n",
    "    node_attrib = pd.read_fwf('datasets/cora/cora_node_attrib.txt', header=None,\n",
    "                              index_col=False, names=['attrib'])\n",
    "    \n",
    "    #WithMultipleNodeAttributes\n",
    "    '''node_attrib[['attrib','attrib1', 'attrib2']] = node_attrib['attrib'].str.split(',',expand=True)\n",
    "    node_attrib['attrib'] = node_attrib['attrib'].astype(float)\n",
    "    node_attrib['attrib1'] = node_attrib['attrib1'].astype(float)\n",
    "    node_attrib['attrib2'] = node_attrib['attrib2'].astype(float)\n",
    "    node_attrib['attrib4'] = node_attrib[['attrib','attrib1', 'attrib2']].mean(axis=1)\n",
    "    node_attrib = node_attrib.drop(['attrib', 'attrib1', 'attrib2'], axis=1)\n",
    "    node_attrib = node_attrib.rename(columns={'attrib4': 'attrib'})'''\n",
    "\n",
    "    \n",
    "    node_att = dict()\n",
    "    att_list = [node_attrib['attrib'][a] for a in range(len(node_attrib['attrib']))]\n",
    "    for i, j in enumerate(att_list):\n",
    "        node_att[i+1] = round(j, 4)\n",
    "    \n",
    "    return node_att"
   ]
  },
  {
   "cell_type": "code",
   "execution_count": null,
   "id": "e65b67b6",
   "metadata": {},
   "outputs": [],
   "source": [
    "def init_create_graph():\n",
    "    graph_edges, weights = make_edges()\n",
    "    _, graph_nodes = make_labels()\n",
    "\n",
    "    H = nx.Graph()\n",
    "    for i in range(len(graph_nodes)):\n",
    "        node = graph_nodes[i]\n",
    "        H.add_node(node)\n",
    "        \n",
    "    for j in range(len(graph_edges)):\n",
    "        a, b = graph_edges[j]\n",
    "        H.add_edge(a, b, weight=weights[j])\n",
    "    \n",
    "    return H"
   ]
  },
  {
   "cell_type": "code",
   "execution_count": null,
   "id": "d4a5240a",
   "metadata": {},
   "outputs": [],
   "source": [
    "G = init_create_graph()\n",
    "def create_graph():\n",
    "    #node_attr = node_attribute2() \n",
    "    node_attr = node_attribute()\n",
    "    for n in node_attr.keys():\n",
    "        G.nodes[n]['node_att'] = node_attr[n]\n",
    "    \n",
    "    return G"
   ]
  }
 ],
 "metadata": {
  "kernelspec": {
   "display_name": "Python 3 (ipykernel)",
   "language": "python",
   "name": "python3"
  },
  "language_info": {
   "codemirror_mode": {
    "name": "ipython",
    "version": 3
   },
   "file_extension": ".py",
   "mimetype": "text/x-python",
   "name": "python",
   "nbconvert_exporter": "python",
   "pygments_lexer": "ipython3",
   "version": "3.12.5"
  }
 },
 "nbformat": 4,
 "nbformat_minor": 5
}
