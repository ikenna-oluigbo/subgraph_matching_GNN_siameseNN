{
 "cells": [
  {
   "cell_type": "code",
   "execution_count": null,
   "id": "cfb4a191",
   "metadata": {},
   "outputs": [],
   "source": [
    "import numpy as np \n",
    "import ipynb.fs\n",
    "from ipynb.fs.full.make_graphs import make_labels, create_graph \n",
    "\n",
    "G = create_graph()\n",
    "label_dict, _ = make_labels()\n",
    "only_labels = list(set(label_dict.values()))"
   ]
  },
  {
   "cell_type": "code",
   "execution_count": null,
   "id": "f1405cde",
   "metadata": {},
   "outputs": [],
   "source": [
    "def node_neighbor_labels(G):\n",
    "    neighbor_labels = {}\n",
    "    for node in G.nodes:\n",
    "        nn = list(G.neighbors(node))    #nn = Node Neighbor\n",
    "        nnlabel = [label_dict[n] for n in nn]  #Superimpose labels on node id\n",
    "        neighbor_labels[node] = nnlabel\n",
    "    return neighbor_labels"
   ]
  },
  {
   "cell_type": "code",
   "execution_count": null,
   "id": "51ab944b",
   "metadata": {},
   "outputs": [],
   "source": [
    "def cantor_pairing(x, y):\n",
    "    if x > (y + x - 1):\n",
    "        return 0\n",
    "    if y + x - 1 == 1:\n",
    "        return 1\n",
    "    st = 1\n",
    "    i = 1\n",
    "    t = y\n",
    "    while t <= (y + x - 1):\n",
    "        st *= t\n",
    "        t += 1\n",
    "        while (i <= x) and (st % i == 0) and (st > 0):\n",
    "            st = st / i\n",
    "            i += 1\n",
    "    \n",
    "    return st"
   ]
  },
  {
   "cell_type": "code",
   "execution_count": null,
   "id": "6dde6d19",
   "metadata": {},
   "outputs": [],
   "source": [
    "def CNR():\n",
    "    neighbor_labels = node_neighbor_labels(G)\n",
    "    CNR_nodes_log = {}\n",
    "    CNR_original = {}\n",
    "    for node in G.nodes:\n",
    "        visited = []\n",
    "        CNI_list = []\n",
    "        CNI_Sum = 0\n",
    "        hop_labels = sorted(neighbor_labels[node])  #Returns Labels of Node neighbors\n",
    "        hop_count = np.zeros(len(only_labels))\n",
    "        for label in only_labels:\n",
    "            if label in hop_labels:\n",
    "                hop_count[only_labels.index(label)] = hop_labels.count(label)   #returns counts of unique neighbor labels \n",
    "            else: 0\n",
    "        hop_count = [int(n) for n in hop_count]   \n",
    "        #print(node, '>>>', hop_count)  \n",
    "        for i in range(len(only_labels)):\n",
    "            visited.append(hop_count.pop(0))\n",
    "            CNI_list.append((only_labels[i],sum(visited)))    #Returns the label, hop count sum pair\n",
    "        for j in CNI_list:\n",
    "            CNI_Sum += cantor_pairing(j[0], j[1])\n",
    "        \n",
    "        if CNI_Sum == 1.0:\n",
    "            CNI_Sum += 0.01      #Because log 1 = 0, we add a little value to any sum that is 1\n",
    "        CNR_original[node] = CNI_Sum\n",
    "        CNR_nodes_log[node] = np.log10(CNI_Sum)\n",
    "\n",
    "    return CNR_original, CNR_nodes_log"
   ]
  },
  {
   "cell_type": "code",
   "execution_count": null,
   "id": "00a43706",
   "metadata": {},
   "outputs": [],
   "source": []
  }
 ],
 "metadata": {
  "kernelspec": {
   "display_name": "Python 3 (ipykernel)",
   "language": "python",
   "name": "python3"
  },
  "language_info": {
   "codemirror_mode": {
    "name": "ipython",
    "version": 3
   },
   "file_extension": ".py",
   "mimetype": "text/x-python",
   "name": "python",
   "nbconvert_exporter": "python",
   "pygments_lexer": "ipython3",
   "version": "3.12.5"
  }
 },
 "nbformat": 4,
 "nbformat_minor": 5
}
